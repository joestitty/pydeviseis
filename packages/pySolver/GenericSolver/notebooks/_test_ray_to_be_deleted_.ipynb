{
 "cells": [
  {
   "cell_type": "code",
   "execution_count": 1,
   "id": "723cdac5",
   "metadata": {},
   "outputs": [],
   "source": [
    "import sys\n",
    "\n",
    "sys.path.append(\"../python/\")"
   ]
  },
  {
   "cell_type": "code",
   "execution_count": 2,
   "id": "cac51303",
   "metadata": {},
   "outputs": [],
   "source": [
    "%load_ext autoreload\n",
    "%autoreload 2\n",
    "import dask\n",
    "import dask.distributed\n",
    "from dask_util import DaskClient\n",
    "import dask_util\n",
    "import numpy as np"
   ]
  },
  {
   "cell_type": "code",
   "execution_count": 3,
   "id": "a5f90fda-0fc7-49a7-9e41-5d47f75be2ed",
   "metadata": {},
   "outputs": [],
   "source": [
    "sys.path.append(\"/home/users/arustam/parquetvector/\")"
   ]
  },
  {
   "cell_type": "code",
   "execution_count": 3,
   "id": "ade93e57",
   "metadata": {
    "scrolled": true
   },
   "outputs": [],
   "source": [
    "local_params = {\n",
    "    \"n_workers\":4, \n",
    "    \"processes\" : True\n",
    "    \n",
    "}\n",
    "\n",
    "import os\n",
    "cluster = {\n",
    "    \"nanny\" : True,\n",
    "    \"cores\" : 24,\n",
    "    \"processes\" : 1,\n",
    "    \"memory\" : \"32GB\",\n",
    "    \"shebang\" : '#!/usr/bin/env bash',\n",
    "    \"queue\" : \"serc\",\n",
    "    \"walltime\" : \"24:00:00\",\n",
    "    \"local_directory\" : f'{os.environ[\"SCRATCH\"]}/dask_local_dir',\n",
    "    \"death_timeout\" : \"15s\",\n",
    "    \"interface\" : \"ib0\",\n",
    "    \"log_directory\" : f'{os.environ[\"SCRATCH\"]}/dask_jobqueue_logs',\n",
    "    \"python\" : \"singularity run /home/users/arustam/singularity/wem_density.sif python3\",\n",
    "    \"scheduler_options\" : {\n",
    "#         \"idle_timeout\" : \"1500s\",\n",
    "        \"worker_ttl\" : \"15000s\"\n",
    "    },\n",
    "#     \"worker_extra_args\" : [\n",
    "#         \"--lifetime\", \"50m\", \n",
    "#         \"--lifetime-stagger\", \"9m\"\n",
    "#     ],\n",
    "#     \"job_extra_directives\" : [\n",
    "#         \"--constraint=NO_GPU\"\n",
    "#     ]\n",
    "}\n",
    "\n",
    "\n",
    "client = DaskClient(slurm_params=cluster, n_jobs=10)"
   ]
  },
  {
   "cell_type": "code",
   "execution_count": 3,
   "id": "5c459c28-5129-4d47-845c-778152cb2a84",
   "metadata": {},
   "outputs": [],
   "source": [
    "python = \"singularity run --bind ~/repository.dev:/opt/repo,/home/users/arustam/python-solver:/opt/python-solver /home/users/arustam/singularity/wem_density.sif python3\""
   ]
  },
  {
   "cell_type": "code",
   "execution_count": 4,
   "id": "e12f2b0b-9392-48f0-9192-9c645663de67",
   "metadata": {},
   "outputs": [],
   "source": [
    "local_params = {\n",
    "    \"n_workers\":4, \n",
    "    \"processes\" : True\n",
    "    \n",
    "}\n",
    "\n",
    "import os\n",
    "cluster = {\n",
    "    \"nanny\" : True,\n",
    "    \"cores\" : 24,\n",
    "    \"processes\" : 1,\n",
    "    \"memory\" : \"16GB\",\n",
    "    \"shebang\" : '#!/usr/bin/env bash',\n",
    "    \"queue\" : \"serc\",\n",
    "    \"walltime\" : \"24:00:00\",\n",
    "    \"local_directory\" : f'{os.environ[\"SCRATCH\"]}/dask_local_dir',\n",
    "    \"death_timeout\" : \"15s\",\n",
    "    \"interface\" : \"ib0\",\n",
    "    \"log_directory\" : f'{os.environ[\"SCRATCH\"]}/dask_jobqueue_logs',\n",
    "    \"python\" : python,\n",
    "    # \"worker_extra_args\" : [\"--lifetime\", \"55m\", \"--lifetime-stagger\", \"4m\"],\n",
    "}\n",
    "\n",
    "\n",
    "client = DaskClient(slurm_params=cluster, n_jobs=10)"
   ]
  },
  {
   "cell_type": "code",
   "execution_count": 3,
   "id": "393d70cb",
   "metadata": {},
   "outputs": [
    {
     "name": "stderr",
     "output_type": "stream",
     "text": [
      "/home/users/arustam/miniconda3/envs/dask3.10/lib/python3.11/site-packages/distributed/node.py:187: UserWarning: Port 8787 is already in use.\n",
      "Perhaps you already have a cluster running?\n",
      "Hosting the HTTP server on port 45276 instead\n",
      "  warnings.warn(\n",
      "2024-11-27 17:54:02,771 - distributed.scheduler - ERROR - Error during deserialization of the task graph. This frequently\n",
      "occurs if the Scheduler and Client have different environments.\n",
      "For more information, see\n",
      "https://docs.dask.org/en/stable/deployment-considerations.html#consistent-software-environments\n",
      "\n"
     ]
    }
   ],
   "source": [
    "import os\n",
    "small_cluster = {\n",
    "    \"job_name\" : \"copy\",\n",
    "    \"nanny\" : True,\n",
    "    \"cores\" : 24,\n",
    "    \"processes\" : 1,\n",
    "    \"memory\" : \"32GB\",\n",
    "    \"shebang\" : '#!/usr/bin/env bash',\n",
    "    \"queue\" : \"serc\",\n",
    "    \"walltime\" : \"1:00:00\",\n",
    "    \"local_directory\" : f'{os.environ[\"SCRATCH\"]}/dask_local_dir',\n",
    "    \"death_timeout\" : \"15s\",\n",
    "    \"interface\" : \"ib0\",\n",
    "    \"log_directory\" : f'{os.environ[\"SCRATCH\"]}/dask_copy_logs',\n",
    "    \"python\" : \"singularity run --bind ~/parquetvector:/opt/SEP/lib/python3.8 /home/groups/biondo/arustam/singularity/parquet_vector.sif python3\",\n",
    "    \"scheduler_options\" : {\n",
    "        \"host\" : \"10.19.9.27\",\n",
    "        \"port\" : \"8686\"\n",
    "    }\n",
    "}\n",
    "\n",
    "\n",
    "copy_client = DaskClient(slurm_params=small_cluster, n_jobs=2)"
   ]
  },
  {
   "cell_type": "code",
   "execution_count": 4,
   "id": "b0e2bdab-6efa-4352-8cb3-3cd53d62af2f",
   "metadata": {},
   "outputs": [
    {
     "data": {
      "text/plain": [
       "<pooled rpc to 'tcp://10.19.9.27:8686'>"
      ]
     },
     "execution_count": 4,
     "metadata": {},
     "output_type": "execute_result"
    }
   ],
   "source": [
    "copy_client.getClient().scheduler"
   ]
  },
  {
   "cell_type": "code",
   "execution_count": 6,
   "id": "27fcff92",
   "metadata": {},
   "outputs": [
    {
     "data": {
      "text/plain": [
       "{'tcp://10.51.4.42:40484': 56,\n",
       " 'tcp://10.51.4.48:34718': 56,\n",
       " 'tcp://10.51.5.20:46151': 56,\n",
       " 'tcp://10.51.8.57:33403': 56,\n",
       " 'tcp://10.51.9.70:45342': 56}"
      ]
     },
     "execution_count": 6,
     "metadata": {},
     "output_type": "execute_result"
    }
   ],
   "source": [
    "# client.getClient().amm.stop()\n",
    "copy_client.getClient().amm.start()\n",
    "import gc\n",
    "copy_client.getClient().run(gc.collect)  # collect garbage on all workers\n"
   ]
  },
  {
   "cell_type": "code",
   "execution_count": 4,
   "id": "8a7cd9c4",
   "metadata": {
    "scrolled": true
   },
   "outputs": [
    {
     "ename": "NameError",
     "evalue": "name 'copy_client' is not defined",
     "output_type": "error",
     "traceback": [
      "\u001b[0;31m---------------------------------------------------------------------------\u001b[0m",
      "\u001b[0;31mNameError\u001b[0m                                 Traceback (most recent call last)",
      "Cell \u001b[0;32mIn[4], line 1\u001b[0m\n\u001b[0;32m----> 1\u001b[0m dask_util\u001b[38;5;241m.\u001b[39msave(\u001b[43mcopy_client\u001b[49m, \u001b[38;5;124m'\u001b[39m\u001b[38;5;124m/home/groups/biondo/arustam/marimba/client.dask\u001b[39m\u001b[38;5;124m'\u001b[39m)\n",
      "\u001b[0;31mNameError\u001b[0m: name 'copy_client' is not defined"
     ]
    }
   ],
   "source": [
    "dask_util.save(copy_client, '/home/groups/biondo/arustam/marimba/client.dask')"
   ]
  },
  {
   "cell_type": "code",
   "execution_count": 5,
   "id": "82462e8b-8f82-4252-a798-f5c753802fb4",
   "metadata": {
    "scrolled": true
   },
   "outputs": [],
   "source": [
    "# dask_util.save(client, '/home/users/arustam/synth/medical/carlLine/Par/client.dask')\n",
    "dask_util.save(client, '/home/users/arustam/synth/marmousi/Par/client.dask')"
   ]
  },
  {
   "cell_type": "code",
   "execution_count": 5,
   "id": "f8f68189",
   "metadata": {},
   "outputs": [
    {
     "ename": "NameError",
     "evalue": "name 'copy_client' is not defined",
     "output_type": "error",
     "traceback": [
      "\u001b[0;31m---------------------------------------------------------------------------\u001b[0m",
      "\u001b[0;31mNameError\u001b[0m                                 Traceback (most recent call last)",
      "Cell \u001b[0;32mIn[5], line 1\u001b[0m\n\u001b[0;32m----> 1\u001b[0m \u001b[43mcopy_client\u001b[49m\u001b[38;5;241m.\u001b[39mgetClient()\u001b[38;5;241m.\u001b[39mcluster\u001b[38;5;241m.\u001b[39mget_logs()\n",
      "\u001b[0;31mNameError\u001b[0m: name 'copy_client' is not defined"
     ]
    }
   ],
   "source": [
    "copy_client.getClient().cluster.get_logs()"
   ]
  },
  {
   "cell_type": "code",
   "execution_count": 5,
   "id": "6522d521",
   "metadata": {},
   "outputs": [
    {
     "data": {
      "text/html": [
       "<div>\n",
       "    <div style=\"width: 24px; height: 24px; background-color: #e1e1e1; border: 3px solid #9D9D9D; border-radius: 5px; position: absolute;\"> </div>\n",
       "    <div style=\"margin-left: 48px;\">\n",
       "        <h3 style=\"margin-bottom: 0px;\">Client</h3>\n",
       "        <p style=\"color: #9D9D9D; margin-bottom: 0px;\">Client-c75f496e-dd06-11ef-b28b-f40270b960a6</p>\n",
       "        <table style=\"width: 100%; text-align: left;\">\n",
       "\n",
       "        <tr>\n",
       "        \n",
       "            <td style=\"text-align: left;\"><strong>Connection method:</strong> Cluster object</td>\n",
       "            <td style=\"text-align: left;\"><strong>Cluster type:</strong> dask_jobqueue.SLURMCluster</td>\n",
       "        \n",
       "        </tr>\n",
       "\n",
       "        \n",
       "            <tr>\n",
       "                <td style=\"text-align: left;\">\n",
       "                    <strong>Dashboard: </strong> <a href=\"http://10.51.14.23:8787/status\" target=\"_blank\">http://10.51.14.23:8787/status</a>\n",
       "                </td>\n",
       "                <td style=\"text-align: left;\"></td>\n",
       "            </tr>\n",
       "        \n",
       "\n",
       "        </table>\n",
       "\n",
       "        \n",
       "\n",
       "        \n",
       "            <details>\n",
       "            <summary style=\"margin-bottom: 20px;\"><h3 style=\"display: inline;\">Cluster Info</h3></summary>\n",
       "            <div class=\"jp-RenderedHTMLCommon jp-RenderedHTML jp-mod-trusted jp-OutputArea-output\">\n",
       "    <div style=\"width: 24px; height: 24px; background-color: #e1e1e1; border: 3px solid #9D9D9D; border-radius: 5px; position: absolute;\">\n",
       "    </div>\n",
       "    <div style=\"margin-left: 48px;\">\n",
       "        <h3 style=\"margin-bottom: 0px; margin-top: 0px;\">SLURMCluster</h3>\n",
       "        <p style=\"color: #9D9D9D; margin-bottom: 0px;\">a9f2868a</p>\n",
       "        <table style=\"width: 100%; text-align: left;\">\n",
       "            <tr>\n",
       "                <td style=\"text-align: left;\">\n",
       "                    <strong>Dashboard:</strong> <a href=\"http://10.51.14.23:8787/status\" target=\"_blank\">http://10.51.14.23:8787/status</a>\n",
       "                </td>\n",
       "                <td style=\"text-align: left;\">\n",
       "                    <strong>Workers:</strong> 7\n",
       "                </td>\n",
       "            </tr>\n",
       "            <tr>\n",
       "                <td style=\"text-align: left;\">\n",
       "                    <strong>Total threads:</strong> 168\n",
       "                </td>\n",
       "                <td style=\"text-align: left;\">\n",
       "                    <strong>Total memory:</strong> 208.60 GiB\n",
       "                </td>\n",
       "            </tr>\n",
       "            \n",
       "        </table>\n",
       "\n",
       "        <details>\n",
       "            <summary style=\"margin-bottom: 20px;\">\n",
       "                <h3 style=\"display: inline;\">Scheduler Info</h3>\n",
       "            </summary>\n",
       "\n",
       "            <div style=\"\">\n",
       "    <div>\n",
       "        <div style=\"width: 24px; height: 24px; background-color: #FFF7E5; border: 3px solid #FF6132; border-radius: 5px; position: absolute;\"> </div>\n",
       "        <div style=\"margin-left: 48px;\">\n",
       "            <h3 style=\"margin-bottom: 0px;\">Scheduler</h3>\n",
       "            <p style=\"color: #9D9D9D; margin-bottom: 0px;\">Scheduler-c7b1e4fb-8f2e-4a25-b321-a76389c2eb87</p>\n",
       "            <table style=\"width: 100%; text-align: left;\">\n",
       "                <tr>\n",
       "                    <td style=\"text-align: left;\">\n",
       "                        <strong>Comm:</strong> tcp://10.51.14.23:33793\n",
       "                    </td>\n",
       "                    <td style=\"text-align: left;\">\n",
       "                        <strong>Workers:</strong> 7\n",
       "                    </td>\n",
       "                </tr>\n",
       "                <tr>\n",
       "                    <td style=\"text-align: left;\">\n",
       "                        <strong>Dashboard:</strong> <a href=\"http://10.51.14.23:8787/status\" target=\"_blank\">http://10.51.14.23:8787/status</a>\n",
       "                    </td>\n",
       "                    <td style=\"text-align: left;\">\n",
       "                        <strong>Total threads:</strong> 168\n",
       "                    </td>\n",
       "                </tr>\n",
       "                <tr>\n",
       "                    <td style=\"text-align: left;\">\n",
       "                        <strong>Started:</strong> 20 hours ago\n",
       "                    </td>\n",
       "                    <td style=\"text-align: left;\">\n",
       "                        <strong>Total memory:</strong> 208.60 GiB\n",
       "                    </td>\n",
       "                </tr>\n",
       "            </table>\n",
       "        </div>\n",
       "    </div>\n",
       "\n",
       "    <details style=\"margin-left: 48px;\">\n",
       "        <summary style=\"margin-bottom: 20px;\">\n",
       "            <h3 style=\"display: inline;\">Workers</h3>\n",
       "        </summary>\n",
       "\n",
       "        \n",
       "        <div style=\"margin-bottom: 20px;\">\n",
       "            <div style=\"width: 24px; height: 24px; background-color: #DBF5FF; border: 3px solid #4CC9FF; border-radius: 5px; position: absolute;\"> </div>\n",
       "            <div style=\"margin-left: 48px;\">\n",
       "            <details>\n",
       "                <summary>\n",
       "                    <h4 style=\"margin-bottom: 0px; display: inline;\">Worker: SLURMCluster-0</h4>\n",
       "                </summary>\n",
       "                <table style=\"width: 100%; text-align: left;\">\n",
       "                    <tr>\n",
       "                        <td style=\"text-align: left;\">\n",
       "                            <strong>Comm: </strong> tcp://10.51.5.57:36279\n",
       "                        </td>\n",
       "                        <td style=\"text-align: left;\">\n",
       "                            <strong>Total threads: </strong> 24\n",
       "                        </td>\n",
       "                    </tr>\n",
       "                    <tr>\n",
       "                        <td style=\"text-align: left;\">\n",
       "                            <strong>Dashboard: </strong> <a href=\"http://10.51.5.57:40866/status\" target=\"_blank\">http://10.51.5.57:40866/status</a>\n",
       "                        </td>\n",
       "                        <td style=\"text-align: left;\">\n",
       "                            <strong>Memory: </strong> 29.80 GiB\n",
       "                        </td>\n",
       "                    </tr>\n",
       "                    <tr>\n",
       "                        <td style=\"text-align: left;\">\n",
       "                            <strong>Nanny: </strong> tcp://10.51.5.57:43707\n",
       "                        </td>\n",
       "                        <td style=\"text-align: left;\"></td>\n",
       "                    </tr>\n",
       "                    <tr>\n",
       "                        <td colspan=\"2\" style=\"text-align: left;\">\n",
       "                            <strong>Local directory: </strong> /scratch/users/arustam/dask_local_dir/dask-worker-space/worker-3xp877n3\n",
       "                        </td>\n",
       "                    </tr>\n",
       "\n",
       "                    \n",
       "\n",
       "                    \n",
       "\n",
       "                </table>\n",
       "            </details>\n",
       "            </div>\n",
       "        </div>\n",
       "        \n",
       "        <div style=\"margin-bottom: 20px;\">\n",
       "            <div style=\"width: 24px; height: 24px; background-color: #DBF5FF; border: 3px solid #4CC9FF; border-radius: 5px; position: absolute;\"> </div>\n",
       "            <div style=\"margin-left: 48px;\">\n",
       "            <details>\n",
       "                <summary>\n",
       "                    <h4 style=\"margin-bottom: 0px; display: inline;\">Worker: SLURMCluster-1</h4>\n",
       "                </summary>\n",
       "                <table style=\"width: 100%; text-align: left;\">\n",
       "                    <tr>\n",
       "                        <td style=\"text-align: left;\">\n",
       "                            <strong>Comm: </strong> tcp://10.51.14.22:39404\n",
       "                        </td>\n",
       "                        <td style=\"text-align: left;\">\n",
       "                            <strong>Total threads: </strong> 24\n",
       "                        </td>\n",
       "                    </tr>\n",
       "                    <tr>\n",
       "                        <td style=\"text-align: left;\">\n",
       "                            <strong>Dashboard: </strong> <a href=\"http://10.51.14.22:41920/status\" target=\"_blank\">http://10.51.14.22:41920/status</a>\n",
       "                        </td>\n",
       "                        <td style=\"text-align: left;\">\n",
       "                            <strong>Memory: </strong> 29.80 GiB\n",
       "                        </td>\n",
       "                    </tr>\n",
       "                    <tr>\n",
       "                        <td style=\"text-align: left;\">\n",
       "                            <strong>Nanny: </strong> tcp://10.51.14.22:40879\n",
       "                        </td>\n",
       "                        <td style=\"text-align: left;\"></td>\n",
       "                    </tr>\n",
       "                    <tr>\n",
       "                        <td colspan=\"2\" style=\"text-align: left;\">\n",
       "                            <strong>Local directory: </strong> /scratch/users/arustam/dask_local_dir/dask-worker-space/worker-p7xrrram\n",
       "                        </td>\n",
       "                    </tr>\n",
       "\n",
       "                    \n",
       "\n",
       "                    \n",
       "\n",
       "                </table>\n",
       "            </details>\n",
       "            </div>\n",
       "        </div>\n",
       "        \n",
       "        <div style=\"margin-bottom: 20px;\">\n",
       "            <div style=\"width: 24px; height: 24px; background-color: #DBF5FF; border: 3px solid #4CC9FF; border-radius: 5px; position: absolute;\"> </div>\n",
       "            <div style=\"margin-left: 48px;\">\n",
       "            <details>\n",
       "                <summary>\n",
       "                    <h4 style=\"margin-bottom: 0px; display: inline;\">Worker: SLURMCluster-2</h4>\n",
       "                </summary>\n",
       "                <table style=\"width: 100%; text-align: left;\">\n",
       "                    <tr>\n",
       "                        <td style=\"text-align: left;\">\n",
       "                            <strong>Comm: </strong> tcp://10.51.14.18:36953\n",
       "                        </td>\n",
       "                        <td style=\"text-align: left;\">\n",
       "                            <strong>Total threads: </strong> 24\n",
       "                        </td>\n",
       "                    </tr>\n",
       "                    <tr>\n",
       "                        <td style=\"text-align: left;\">\n",
       "                            <strong>Dashboard: </strong> <a href=\"http://10.51.14.18:43414/status\" target=\"_blank\">http://10.51.14.18:43414/status</a>\n",
       "                        </td>\n",
       "                        <td style=\"text-align: left;\">\n",
       "                            <strong>Memory: </strong> 29.80 GiB\n",
       "                        </td>\n",
       "                    </tr>\n",
       "                    <tr>\n",
       "                        <td style=\"text-align: left;\">\n",
       "                            <strong>Nanny: </strong> tcp://10.51.14.18:38482\n",
       "                        </td>\n",
       "                        <td style=\"text-align: left;\"></td>\n",
       "                    </tr>\n",
       "                    <tr>\n",
       "                        <td colspan=\"2\" style=\"text-align: left;\">\n",
       "                            <strong>Local directory: </strong> /scratch/users/arustam/dask_local_dir/dask-worker-space/worker-npt97xm_\n",
       "                        </td>\n",
       "                    </tr>\n",
       "\n",
       "                    \n",
       "\n",
       "                    \n",
       "\n",
       "                </table>\n",
       "            </details>\n",
       "            </div>\n",
       "        </div>\n",
       "        \n",
       "        <div style=\"margin-bottom: 20px;\">\n",
       "            <div style=\"width: 24px; height: 24px; background-color: #DBF5FF; border: 3px solid #4CC9FF; border-radius: 5px; position: absolute;\"> </div>\n",
       "            <div style=\"margin-left: 48px;\">\n",
       "            <details>\n",
       "                <summary>\n",
       "                    <h4 style=\"margin-bottom: 0px; display: inline;\">Worker: SLURMCluster-4</h4>\n",
       "                </summary>\n",
       "                <table style=\"width: 100%; text-align: left;\">\n",
       "                    <tr>\n",
       "                        <td style=\"text-align: left;\">\n",
       "                            <strong>Comm: </strong> tcp://10.51.4.44:45814\n",
       "                        </td>\n",
       "                        <td style=\"text-align: left;\">\n",
       "                            <strong>Total threads: </strong> 24\n",
       "                        </td>\n",
       "                    </tr>\n",
       "                    <tr>\n",
       "                        <td style=\"text-align: left;\">\n",
       "                            <strong>Dashboard: </strong> <a href=\"http://10.51.4.44:44704/status\" target=\"_blank\">http://10.51.4.44:44704/status</a>\n",
       "                        </td>\n",
       "                        <td style=\"text-align: left;\">\n",
       "                            <strong>Memory: </strong> 29.80 GiB\n",
       "                        </td>\n",
       "                    </tr>\n",
       "                    <tr>\n",
       "                        <td style=\"text-align: left;\">\n",
       "                            <strong>Nanny: </strong> tcp://10.51.4.44:46519\n",
       "                        </td>\n",
       "                        <td style=\"text-align: left;\"></td>\n",
       "                    </tr>\n",
       "                    <tr>\n",
       "                        <td colspan=\"2\" style=\"text-align: left;\">\n",
       "                            <strong>Local directory: </strong> /scratch/users/arustam/dask_local_dir/dask-worker-space/worker-8qgdjq3h\n",
       "                        </td>\n",
       "                    </tr>\n",
       "\n",
       "                    \n",
       "\n",
       "                    \n",
       "\n",
       "                </table>\n",
       "            </details>\n",
       "            </div>\n",
       "        </div>\n",
       "        \n",
       "        <div style=\"margin-bottom: 20px;\">\n",
       "            <div style=\"width: 24px; height: 24px; background-color: #DBF5FF; border: 3px solid #4CC9FF; border-radius: 5px; position: absolute;\"> </div>\n",
       "            <div style=\"margin-left: 48px;\">\n",
       "            <details>\n",
       "                <summary>\n",
       "                    <h4 style=\"margin-bottom: 0px; display: inline;\">Worker: SLURMCluster-6</h4>\n",
       "                </summary>\n",
       "                <table style=\"width: 100%; text-align: left;\">\n",
       "                    <tr>\n",
       "                        <td style=\"text-align: left;\">\n",
       "                            <strong>Comm: </strong> tcp://10.51.14.23:36774\n",
       "                        </td>\n",
       "                        <td style=\"text-align: left;\">\n",
       "                            <strong>Total threads: </strong> 24\n",
       "                        </td>\n",
       "                    </tr>\n",
       "                    <tr>\n",
       "                        <td style=\"text-align: left;\">\n",
       "                            <strong>Dashboard: </strong> <a href=\"http://10.51.14.23:38519/status\" target=\"_blank\">http://10.51.14.23:38519/status</a>\n",
       "                        </td>\n",
       "                        <td style=\"text-align: left;\">\n",
       "                            <strong>Memory: </strong> 29.80 GiB\n",
       "                        </td>\n",
       "                    </tr>\n",
       "                    <tr>\n",
       "                        <td style=\"text-align: left;\">\n",
       "                            <strong>Nanny: </strong> tcp://10.51.14.23:38798\n",
       "                        </td>\n",
       "                        <td style=\"text-align: left;\"></td>\n",
       "                    </tr>\n",
       "                    <tr>\n",
       "                        <td colspan=\"2\" style=\"text-align: left;\">\n",
       "                            <strong>Local directory: </strong> /scratch/users/arustam/dask_local_dir/dask-worker-space/worker-gbukgmf2\n",
       "                        </td>\n",
       "                    </tr>\n",
       "\n",
       "                    \n",
       "\n",
       "                    \n",
       "\n",
       "                </table>\n",
       "            </details>\n",
       "            </div>\n",
       "        </div>\n",
       "        \n",
       "        <div style=\"margin-bottom: 20px;\">\n",
       "            <div style=\"width: 24px; height: 24px; background-color: #DBF5FF; border: 3px solid #4CC9FF; border-radius: 5px; position: absolute;\"> </div>\n",
       "            <div style=\"margin-left: 48px;\">\n",
       "            <details>\n",
       "                <summary>\n",
       "                    <h4 style=\"margin-bottom: 0px; display: inline;\">Worker: SLURMCluster-7</h4>\n",
       "                </summary>\n",
       "                <table style=\"width: 100%; text-align: left;\">\n",
       "                    <tr>\n",
       "                        <td style=\"text-align: left;\">\n",
       "                            <strong>Comm: </strong> tcp://10.51.14.18:34123\n",
       "                        </td>\n",
       "                        <td style=\"text-align: left;\">\n",
       "                            <strong>Total threads: </strong> 24\n",
       "                        </td>\n",
       "                    </tr>\n",
       "                    <tr>\n",
       "                        <td style=\"text-align: left;\">\n",
       "                            <strong>Dashboard: </strong> <a href=\"http://10.51.14.18:45962/status\" target=\"_blank\">http://10.51.14.18:45962/status</a>\n",
       "                        </td>\n",
       "                        <td style=\"text-align: left;\">\n",
       "                            <strong>Memory: </strong> 29.80 GiB\n",
       "                        </td>\n",
       "                    </tr>\n",
       "                    <tr>\n",
       "                        <td style=\"text-align: left;\">\n",
       "                            <strong>Nanny: </strong> tcp://10.51.14.18:40475\n",
       "                        </td>\n",
       "                        <td style=\"text-align: left;\"></td>\n",
       "                    </tr>\n",
       "                    <tr>\n",
       "                        <td colspan=\"2\" style=\"text-align: left;\">\n",
       "                            <strong>Local directory: </strong> /scratch/users/arustam/dask_local_dir/dask-worker-space/worker-18ku19z8\n",
       "                        </td>\n",
       "                    </tr>\n",
       "\n",
       "                    \n",
       "\n",
       "                    \n",
       "\n",
       "                </table>\n",
       "            </details>\n",
       "            </div>\n",
       "        </div>\n",
       "        \n",
       "        <div style=\"margin-bottom: 20px;\">\n",
       "            <div style=\"width: 24px; height: 24px; background-color: #DBF5FF; border: 3px solid #4CC9FF; border-radius: 5px; position: absolute;\"> </div>\n",
       "            <div style=\"margin-left: 48px;\">\n",
       "            <details>\n",
       "                <summary>\n",
       "                    <h4 style=\"margin-bottom: 0px; display: inline;\">Worker: SLURMCluster-9</h4>\n",
       "                </summary>\n",
       "                <table style=\"width: 100%; text-align: left;\">\n",
       "                    <tr>\n",
       "                        <td style=\"text-align: left;\">\n",
       "                            <strong>Comm: </strong> tcp://10.51.14.17:37125\n",
       "                        </td>\n",
       "                        <td style=\"text-align: left;\">\n",
       "                            <strong>Total threads: </strong> 24\n",
       "                        </td>\n",
       "                    </tr>\n",
       "                    <tr>\n",
       "                        <td style=\"text-align: left;\">\n",
       "                            <strong>Dashboard: </strong> <a href=\"http://10.51.14.17:38567/status\" target=\"_blank\">http://10.51.14.17:38567/status</a>\n",
       "                        </td>\n",
       "                        <td style=\"text-align: left;\">\n",
       "                            <strong>Memory: </strong> 29.80 GiB\n",
       "                        </td>\n",
       "                    </tr>\n",
       "                    <tr>\n",
       "                        <td style=\"text-align: left;\">\n",
       "                            <strong>Nanny: </strong> tcp://10.51.14.17:43481\n",
       "                        </td>\n",
       "                        <td style=\"text-align: left;\"></td>\n",
       "                    </tr>\n",
       "                    <tr>\n",
       "                        <td colspan=\"2\" style=\"text-align: left;\">\n",
       "                            <strong>Local directory: </strong> /scratch/users/arustam/dask_local_dir/dask-worker-space/worker-yjlgck12\n",
       "                        </td>\n",
       "                    </tr>\n",
       "\n",
       "                    \n",
       "\n",
       "                    \n",
       "\n",
       "                </table>\n",
       "            </details>\n",
       "            </div>\n",
       "        </div>\n",
       "        \n",
       "\n",
       "    </details>\n",
       "</div>\n",
       "\n",
       "        </details>\n",
       "    </div>\n",
       "</div>\n",
       "            </details>\n",
       "        \n",
       "\n",
       "    </div>\n",
       "</div>"
      ],
      "text/plain": [
       "<Client: 'tcp://10.51.14.23:33793' processes=4 threads=96, memory=119.20 GiB>"
      ]
     },
     "execution_count": 5,
     "metadata": {},
     "output_type": "execute_result"
    }
   ],
   "source": [
    "client.getClient().restart()"
   ]
  },
  {
   "cell_type": "code",
   "execution_count": null,
   "id": "ee5d09bd",
   "metadata": {},
   "outputs": [],
   "source": [
    "client.getClient().shutdown()"
   ]
  },
  {
   "cell_type": "code",
   "execution_count": null,
   "id": "b8bc681a",
   "metadata": {},
   "outputs": [],
   "source": [
    "## %load_ext autoreload\n",
    "%autoreload 2\n",
    "import SepVector\n",
    "from __pyDaskVector import DaskVector\n",
    "from __pyDaskOperator import DaskOperator\n",
    "import Hypercube\n",
    "import pyOperator as Op\n"
   ]
  },
  {
   "cell_type": "code",
   "execution_count": null,
   "id": "fb065ade",
   "metadata": {
    "scrolled": true
   },
   "outputs": [],
   "source": [
    "\n",
    "ns = [10,40,1000]\n",
    "os = [0,0,0]\n",
    "ds = [1,1,1]\n",
    "chunks = (1,1,3)\n",
    "\n",
    "ax = Hypercube.axis(n=1, o=1, d=1)\n",
    "hyp = Hypercube.hypercube(ns=ns, ds=ds, os=os)\n",
    "vec = SepVector.getSepVector(ns=ns, ds=ds, os=os)\n",
    "vec.set(1)"
   ]
  },
  {
   "cell_type": "code",
   "execution_count": null,
   "id": "7fd1b057",
   "metadata": {},
   "outputs": [],
   "source": [
    "# option 1\n",
    "# creating from scratch\n",
    "data = DaskVector(client, vecCls=SepVector.floatVector, ns=ns, ds=ds, os=os, chunks=chunks)"
   ]
  },
  {
   "cell_type": "code",
   "execution_count": null,
   "id": "f603103e",
   "metadata": {},
   "outputs": [],
   "source": [
    "data.set(2)"
   ]
  },
  {
   "cell_type": "code",
   "execution_count": null,
   "id": "a7acb8d1",
   "metadata": {},
   "outputs": [],
   "source": [
    "data.scale(1)"
   ]
  },
  {
   "cell_type": "code",
   "execution_count": null,
   "id": "d227488e",
   "metadata": {},
   "outputs": [],
   "source": [
    "data[:]"
   ]
  },
  {
   "cell_type": "code",
   "execution_count": null,
   "id": "927640fc",
   "metadata": {},
   "outputs": [],
   "source": [
    "# option 2\n",
    "# creating from existing in-memory SepVector\n",
    "daskVec = DaskVector(client, from_vector=vec, chunks=chunks)"
   ]
  },
  {
   "cell_type": "code",
   "execution_count": null,
   "id": "3039cf72",
   "metadata": {},
   "outputs": [],
   "source": [
    "d1 = data.clone()\n",
    "d2 = data.cloneSpace()"
   ]
  },
  {
   "cell_type": "code",
   "execution_count": null,
   "id": "b080c5a3",
   "metadata": {},
   "outputs": [],
   "source": [
    "client.getClient().has_what()"
   ]
  },
  {
   "cell_type": "code",
   "execution_count": null,
   "id": "ef747320",
   "metadata": {},
   "outputs": [],
   "source": [
    "data.getChunkHyper()"
   ]
  },
  {
   "cell_type": "code",
   "execution_count": null,
   "id": "4c70d1c4",
   "metadata": {},
   "outputs": [],
   "source": [
    "daskVec.getChunkHyper()"
   ]
  },
  {
   "cell_type": "code",
   "execution_count": null,
   "id": "d9438a76",
   "metadata": {},
   "outputs": [],
   "source": [
    "daskVec.dot(daskVec)"
   ]
  },
  {
   "cell_type": "code",
   "execution_count": null,
   "id": "98ef679d",
   "metadata": {},
   "outputs": [],
   "source": [
    "daskVec.checkSame(daskVec)"
   ]
  },
  {
   "cell_type": "code",
   "execution_count": null,
   "id": "52714c41",
   "metadata": {},
   "outputs": [],
   "source": [
    "daskVec.isDifferent(daskVec)"
   ]
  },
  {
   "cell_type": "code",
   "execution_count": null,
   "id": "152ef728",
   "metadata": {},
   "outputs": [],
   "source": [
    "d1.isDifferent(d1)"
   ]
  },
  {
   "cell_type": "code",
   "execution_count": null,
   "id": "67b4710c",
   "metadata": {},
   "outputs": [],
   "source": [
    "d1.isDifferent(daskVec)"
   ]
  },
  {
   "cell_type": "code",
   "execution_count": null,
   "id": "ef7fde26",
   "metadata": {},
   "outputs": [],
   "source": [
    "d2.isDifferent(d2)"
   ]
  },
  {
   "cell_type": "code",
   "execution_count": null,
   "id": "087a038c",
   "metadata": {},
   "outputs": [],
   "source": [
    "d2.get_workers()"
   ]
  },
  {
   "cell_type": "code",
   "execution_count": null,
   "id": "54f13f5a",
   "metadata": {},
   "outputs": [],
   "source": [
    "data.get_workers()"
   ]
  },
  {
   "cell_type": "code",
   "execution_count": null,
   "id": "eae230b0",
   "metadata": {},
   "outputs": [],
   "source": [
    "daskVec.getHyper()"
   ]
  },
  {
   "cell_type": "code",
   "execution_count": null,
   "id": "0ee2aaaa",
   "metadata": {},
   "outputs": [],
   "source": [
    "scaleOp = DaskOperator(client, Op.scalingOp, daskVec, data, 4)"
   ]
  },
  {
   "cell_type": "code",
   "execution_count": null,
   "id": "e6b82da3",
   "metadata": {},
   "outputs": [],
   "source": [
    "daskVec.set(1)\n",
    "for i in range(1):\n",
    "    print(i)\n",
    "    scaleOp.forward(False, daskVec, data)"
   ]
  },
  {
   "cell_type": "code",
   "execution_count": null,
   "id": "235ed296",
   "metadata": {},
   "outputs": [],
   "source": [
    "daskVec.get_workers()"
   ]
  },
  {
   "cell_type": "code",
   "execution_count": null,
   "id": "8717ce61",
   "metadata": {},
   "outputs": [],
   "source": [
    "data.get_workers()"
   ]
  },
  {
   "cell_type": "code",
   "execution_count": null,
   "id": "845cc551",
   "metadata": {},
   "outputs": [],
   "source": [
    "data[:]"
   ]
  },
  {
   "cell_type": "code",
   "execution_count": null,
   "id": "e486b695",
   "metadata": {},
   "outputs": [],
   "source": [
    "data.min()"
   ]
  },
  {
   "cell_type": "code",
   "execution_count": null,
   "id": "4d2f709d",
   "metadata": {},
   "outputs": [],
   "source": [
    "data.max()"
   ]
  },
  {
   "cell_type": "code",
   "execution_count": null,
   "id": "87b6d9e4",
   "metadata": {},
   "outputs": [],
   "source": [
    "data.set(1)\n",
    "for i in range(1):\n",
    "    print(i)\n",
    "    scaleOp.adjoint(True, daskVec, data)"
   ]
  },
  {
   "cell_type": "code",
   "execution_count": null,
   "id": "6fab179b",
   "metadata": {},
   "outputs": [],
   "source": [
    "daskVec[:]"
   ]
  },
  {
   "cell_type": "code",
   "execution_count": null,
   "id": "5f8f1c46",
   "metadata": {},
   "outputs": [],
   "source": [
    "scaleOp.range.isDifferent(daskVec)"
   ]
  },
  {
   "cell_type": "code",
   "execution_count": null,
   "id": "8de49bef",
   "metadata": {},
   "outputs": [],
   "source": [
    "scaleOp.range.checkSame(daskVec)"
   ]
  },
  {
   "cell_type": "code",
   "execution_count": null,
   "id": "47c9cee0",
   "metadata": {},
   "outputs": [],
   "source": [
    "nlOp = Op.NonLinearOperator(scaleOp, scaleOp)"
   ]
  },
  {
   "cell_type": "code",
   "execution_count": null,
   "id": "032dcdc4",
   "metadata": {},
   "outputs": [],
   "source": [
    "for _ in range(10):\n",
    "    nlOp.set_background(daskVec)"
   ]
  },
  {
   "cell_type": "code",
   "execution_count": null,
   "id": "d3b78ba8",
   "metadata": {},
   "outputs": [],
   "source": [
    "data.zero()\n",
    "for i in range(10):\n",
    "    data.scaleAdd(daskVec, sc2=i)\n",
    "    nlOp.set_background(data)"
   ]
  },
  {
   "cell_type": "code",
   "execution_count": null,
   "id": "9423f559",
   "metadata": {},
   "outputs": [],
   "source": [
    "data[:]"
   ]
  },
  {
   "cell_type": "code",
   "execution_count": null,
   "id": "2e8ee13b",
   "metadata": {},
   "outputs": [],
   "source": [
    "data.set(1)\n",
    "for i in range(10):\n",
    "    print(i)\n",
    "    nlOp.nl_op.forward(True, daskVec, data)"
   ]
  },
  {
   "cell_type": "code",
   "execution_count": null,
   "id": "4ee12638",
   "metadata": {},
   "outputs": [],
   "source": [
    "data.set(1)\n",
    "for i in range(10):\n",
    "    print(i)\n",
    "    nlOp.nl_op.adjoint(True, daskVec, data)"
   ]
  },
  {
   "cell_type": "code",
   "execution_count": null,
   "id": "19855b55",
   "metadata": {},
   "outputs": [],
   "source": [
    "data.set(1)\n",
    "for i in range(10):\n",
    "    print(i)\n",
    "    nlOp.lin_op.forward(True, daskVec, data)"
   ]
  },
  {
   "cell_type": "code",
   "execution_count": null,
   "id": "1ff81825",
   "metadata": {},
   "outputs": [],
   "source": [
    "data.set(1)\n",
    "for i in range(10):\n",
    "    print(i)\n",
    "    nlOp.lin_op.adjoint(True, daskVec, data)"
   ]
  },
  {
   "cell_type": "code",
   "execution_count": null,
   "id": "cf8c62ca",
   "metadata": {},
   "outputs": [],
   "source": [
    "import numpy as np\n",
    "import SepVector\n",
    "import Hypercube\n",
    "import genericIO\n",
    "import WEM\n",
    "import Operator\n",
    "\n",
    "import pyVector as Vec\n",
    "import pyOperator as Op\n",
    "import pyNonLinearSolver as Solver\n",
    "import pyLinearSolver as LinearSolver\n",
    "import pyProblem as Prblm\n",
    "import pyStopper as Stopper\n",
    "from sys_util import logger\n",
    "import json\n",
    "import sys\n",
    "\n",
    "import dask_util\n",
    "from __pyDaskVector import DaskVector\n",
    "from __pyDaskOperator import DaskOperator\n",
    "\n",
    "\n",
    "model_pre = data.clone()\n",
    "model_pre.zero()\n",
    "nlOp = Op.NonLinearOperator(scaleOp,scaleOp)\n",
    "\n",
    "#Create L2-norm linear problem\n",
    "niter = 100\n",
    "minb = model_pre.clone()\n",
    "maxb = model_pre.clone()\n",
    "minb.set(0)\n",
    "maxb.set(2)\n",
    "\n",
    "L2Prob = Prblm.ProblemL2NonLinear(model_pre,data,nlOp,minBound=minb, maxBound=maxb)\n",
    "# # # #Create stopper\n",
    "Stop  = Stopper.BasicStopper(niter=niter)\n",
    "# # # #Create solver\n",
    "# # # log = par['non_linear_solver']['prefix'].split('/')\n",
    "LBFGSsolver = Solver.LBFGSBsolver(Stop, logger=logger('test.txt'))\n",
    "# # # #Running the solver\n",
    "# # # LBFGSsolver.setDefaults(**par['non_linear_solver'])\n",
    "LBFGSsolver.run(L2Prob,verbose=True,restart=False)\n"
   ]
  },
  {
   "cell_type": "code",
   "execution_count": null,
   "id": "aaca9a85",
   "metadata": {},
   "outputs": [],
   "source": [
    "client.getClient().who_has()"
   ]
  },
  {
   "cell_type": "code",
   "execution_count": null,
   "id": "71193f0f",
   "metadata": {},
   "outputs": [],
   "source": [
    "model_pre.min()"
   ]
  },
  {
   "cell_type": "code",
   "execution_count": null,
   "id": "3bd180ee",
   "metadata": {},
   "outputs": [],
   "source": [
    "model_pre.max()"
   ]
  },
  {
   "cell_type": "code",
   "execution_count": null,
   "id": "71b2affc",
   "metadata": {},
   "outputs": [],
   "source": [
    "client.getClient().gather(scaleOp.fut)"
   ]
  },
  {
   "cell_type": "code",
   "execution_count": null,
   "id": "c1d21ef5",
   "metadata": {},
   "outputs": [],
   "source": [
    "import pickle \n",
    "\n",
    "d = pickle.dumps(data)"
   ]
  },
  {
   "cell_type": "code",
   "execution_count": null,
   "id": "526cd479",
   "metadata": {},
   "outputs": [],
   "source": [
    "dd = pickle.loads(d)"
   ]
  },
  {
   "cell_type": "code",
   "execution_count": null,
   "id": "2514ae46",
   "metadata": {},
   "outputs": [],
   "source": [
    "dd.__dict__"
   ]
  },
  {
   "cell_type": "code",
   "execution_count": null,
   "id": "3aa6762a",
   "metadata": {},
   "outputs": [],
   "source": [
    "data.__dict__"
   ]
  },
  {
   "cell_type": "code",
   "execution_count": null,
   "id": "60f98792",
   "metadata": {},
   "outputs": [],
   "source": [
    "dd.scaleAdd(data)"
   ]
  },
  {
   "cell_type": "code",
   "execution_count": null,
   "id": "e23d619b",
   "metadata": {},
   "outputs": [],
   "source": [
    "f = client.getClient().submit(scaleOp.getDomain, scaleOp)"
   ]
  },
  {
   "cell_type": "code",
   "execution_count": null,
   "id": "a344fc85",
   "metadata": {},
   "outputs": [],
   "source": [
    "f"
   ]
  },
  {
   "cell_type": "code",
   "execution_count": null,
   "id": "2a547fa8",
   "metadata": {},
   "outputs": [],
   "source": []
  }
 ],
 "metadata": {
  "kernelspec": {
   "display_name": "Python 3 (ipykernel)",
   "language": "python",
   "name": "python3"
  },
  "language_info": {
   "codemirror_mode": {
    "name": "ipython",
    "version": 3
   },
   "file_extension": ".py",
   "mimetype": "text/x-python",
   "name": "python",
   "nbconvert_exporter": "python",
   "pygments_lexer": "ipython3",
   "version": "3.9.20"
  }
 },
 "nbformat": 4,
 "nbformat_minor": 5
}
